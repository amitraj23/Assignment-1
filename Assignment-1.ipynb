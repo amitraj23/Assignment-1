{
 "cells": [
  {
   "cell_type": "code",
   "execution_count": null,
   "metadata": {},
   "outputs": [],
   "source": [
    "# # Task 1:\n",
    "\n",
    "# 1. Install Jupyter notebook and run the first program and share the screenshot of the output.\n",
    "\n",
    "# 2. Write a program which will find all such numbers which are divisible by 7 but are not a multiple\n",
    "# of 5, between 2000 and 3200 (both included). The numbers obtained should be printed in a\n",
    "# comma-separated sequence on a single line.\n",
    "\n",
    "\n",
    "\n",
    "for i in range(2000,3201):\n",
    "    if i%7==0 and i%5!=0:\n",
    "        print(i,end=',')\n",
    "        \n"
   ]
  },
  {
   "cell_type": "code",
   "execution_count": 37,
   "metadata": {},
   "outputs": [
    {
     "name": "stdout",
     "output_type": "stream",
     "text": [
      "Enter your First name-->rajni\n",
      "Enter your Last Name--->bala\n",
      "bala injar\n"
     ]
    }
   ],
   "source": [
    "# 3. Write a Python program to accept the user's first and last name and then getting them printed in\n",
    "# the the reverse order with a space between first name and last name.\n",
    "\n",
    "\n",
    "\n",
    "First_Name=input(\"Enter your First name-->\")\n",
    "Last_Name=input(\"Enter your Last Name--->\")\n",
    "\n",
    "print(Last_Name+\" \" + First_Name [::-1])\n",
    "\n"
   ]
  },
  {
   "cell_type": "code",
   "execution_count": 43,
   "metadata": {},
   "outputs": [
    {
     "name": "stdout",
     "output_type": "stream",
     "text": [
      "904.7786842338604\n"
     ]
    }
   ],
   "source": [
    "# 4. Write a Python program to find the volume of a sphere with diameter 12 cm.\n",
    "# Formula: V=4/3 * π * r 3\n",
    "\n",
    "\n",
    "diameter=12\n",
    "r=diameter/2.0\n",
    "pi=3.141592653589793\n",
    "volume = 4/3*pi*r*r*r\n",
    "print(volume)\n"
   ]
  },
  {
   "cell_type": "markdown",
   "metadata": {},
   "source": [
    "\n",
    "\n",
    "4.\n",
    "Write a Python Program to print the given string in the format specified in the sample output.\n",
    "WE, THE PEOPLE OF INDIA, having solemnly resolved to constitute India into a\n",
    "SOVEREIGN, SOCIALIST, SECULAR, DEMOCRATIC REPUBLIC and to secure to all\n",
    "its citizens\n",
    "Sample Output:\n",
    "WE, THE PEOPLE OF INDIA,\n",
    "having solemnly resolved to constitute India into a SOVEREIGN, !\n",
    "SOCIALIST, SECULAR, DEMOCRATIC REPUBLIC\n",
    "and to secure to all its citizens\n",
    "NOTE: The solution shared through Github should contain the source code used and\n",
    "the screenshot of the output."
   ]
  },
  {
   "cell_type": "code",
   "execution_count": 5,
   "metadata": {},
   "outputs": [
    {
     "name": "stdout",
     "output_type": "stream",
     "text": [
      "enter sequence of numbers2,33,44,55,66,77,88\n"
     ]
    },
    {
     "data": {
      "text/plain": [
       "['2,33,44,55,66,77,88']"
      ]
     },
     "execution_count": 5,
     "metadata": {},
     "output_type": "execute_result"
    }
   ],
   "source": [
    "# Task 2:\n",
    "#1. Write a program which accepts a sequence of comma-separated numbers from console and\n",
    "#generate a list.\n",
    "\n",
    "l=[input('enter sequence of numbers')]\n",
    "l"
   ]
  },
  {
   "cell_type": "code",
   "execution_count": 51,
   "metadata": {},
   "outputs": [
    {
     "name": "stdout",
     "output_type": "stream",
     "text": [
      "\n",
      "*  \n",
      "*  *  \n",
      "*  *  *  \n",
      "*  *  *  *  \n",
      "*  *  *  *  *  \n",
      "*  *  *  *  \n",
      "*  *  *  \n",
      "*  *  \n",
      "*  \n"
     ]
    }
   ],
   "source": [
    "'''2.Create the below pattern using nested for loop in Python.\n",
    "*\n",
    "* *\n",
    "* * *\n",
    "* * * *\n",
    "* * * * *\n",
    "* * * *\n",
    "* * *\n",
    "* *\n",
    "*'''\n",
    "\n",
    "num=5\n",
    "for i in range(num):\n",
    "    for j in range(i):\n",
    "        print('* ',end=\" \")\n",
    "    print(\"\")\n",
    "for i in range(num,0,-1):\n",
    "    for j in range(i):\n",
    "        print('* ',end=\" \")\n",
    "    print(\"\")\n",
    "        \n",
    "    "
   ]
  },
  {
   "cell_type": "code",
   "execution_count": 59,
   "metadata": {},
   "outputs": [
    {
     "name": "stdout",
     "output_type": "stream",
     "text": [
      "enter the word to reverseAmitSandhu\n"
     ]
    },
    {
     "data": {
      "text/plain": [
       "'uhdnaStimA'"
      ]
     },
     "execution_count": 59,
     "metadata": {},
     "output_type": "execute_result"
    }
   ],
   "source": [
    "#3. Write a Python program to reverse a word after accepting the input from the user\n",
    "\n",
    "word=input('enter the word to reverse')\n",
    "word[::-1]\n",
    "\n"
   ]
  },
  {
   "cell_type": "code",
   "execution_count": 86,
   "metadata": {},
   "outputs": [
    {
     "name": "stdout",
     "output_type": "stream",
     "text": [
      "WE,THE PEOPLE OF INDIA,\n",
      "    having solemnly resolved to constitute India into a SOVEREIGN!\n",
      "\t\t SOCIALIST, SECULAR, DEMOCRATIC REPUBLIC \n",
      "\t\t\tand to secure to all its citizens\n"
     ]
    }
   ],
   "source": [
    "# 4. Write a Python Program to print the given string in the format specified in the sample output.\n",
    "# WE, THE PEOPLE OF INDIA, having solemnly resolved to constitute India into a\n",
    "# SOVEREIGN, SOCIALIST, SECULAR, DEMOCRATIC REPUBLIC and to secure to all\n",
    "# its citizens\n",
    "\n",
    "\n",
    "print(\"WE,THE PEOPLE OF INDIA,\\n    having solemnly resolved to constitute India into a SOVEREIGN!\\n\\t\\t SOCIALIST, SECULAR, DEMOCRATIC REPUBLIC \\n\\t\\t\\tand to secure to all its citizens\")\n"
   ]
  },
  {
   "cell_type": "code",
   "execution_count": 63,
   "metadata": {},
   "outputs": [
    {
     "name": "stdout",
     "output_type": "stream",
     "text": [
      "hello\n"
     ]
    }
   ],
   "source": []
  },
  {
   "cell_type": "code",
   "execution_count": null,
   "metadata": {},
   "outputs": [],
   "source": []
  }
 ],
 "metadata": {
  "kernelspec": {
   "display_name": "Python 3",
   "language": "python",
   "name": "python3"
  },
  "language_info": {
   "codemirror_mode": {
    "name": "ipython",
    "version": 3
   },
   "file_extension": ".py",
   "mimetype": "text/x-python",
   "name": "python",
   "nbconvert_exporter": "python",
   "pygments_lexer": "ipython3",
   "version": "3.7.6"
  }
 },
 "nbformat": 4,
 "nbformat_minor": 4
}
